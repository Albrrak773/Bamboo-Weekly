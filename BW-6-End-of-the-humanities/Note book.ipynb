{
 "cells": [
  {
   "cell_type": "code",
   "execution_count": null,
   "id": "03e6364f-a517-492e-8065-84e32d4ceb01",
   "metadata": {},
   "outputs": [],
   "source": [
    "import pandas as pd\n",
    "import numpy as np"
   ]
  },
  {
   "cell_type": "code",
   "execution_count": null,
   "id": "17d3b472",
   "metadata": {},
   "outputs": [],
   "source": [
    "# Question 1 : Retrieve the Excel file with selected years, and turn it into a data frame.\n",
    "df = pd.read_excel('https://nces.ed.gov/programs/digest/d21/tables/xls/tabn322.10.xls',header=1)"
   ]
  },
  {
   "cell_type": "code",
   "execution_count": null,
   "id": "bc9326c8",
   "metadata": {},
   "outputs": [],
   "source": [
    "# Question 2 : Remove the line numbering the surveys. Remove the total. And remove the lines at the bottom, after \"Other and not classified\n",
    "df = df.drop(index=df.loc[34:39].index)\n",
    "df = df.drop(index=[0,1])"
   ]
  },
  {
   "cell_type": "code",
   "execution_count": null,
   "id": "7e03bfc4",
   "metadata": {},
   "outputs": [],
   "source": [
    "# Question 3 : Remove the \\n\\ markings (for footnotes) from the \"Field of study\" column (My Take)\n",
    "for i in range(1,5):\n",
    "    df['Field of study'] = df['Field of study'].str.replace(f'\\\\{i}\\\\','')\n",
    "df.head()"
   ]
  },
  {
   "cell_type": "code",
   "execution_count": null,
   "id": "84bea03b",
   "metadata": {},
   "outputs": [],
   "source": [
    "# Question 4 : Remove newlines and other extraneous whitespace from the \"Field of study\" column (My Take)\n",
    "df['Field of study'] = df['Field of study'].str.replace('\\n','')\n",
    "df['Field of study'] = df['Field of study'].str.replace('  ','')\n",
    "df['Field of study'].unique()"
   ]
  },
  {
   "cell_type": "code",
   "execution_count": null,
   "id": "de88f201",
   "metadata": {},
   "outputs": [],
   "source": [
    "# Question 5 : Set the \"Field of study\" column to be the index.\n",
    "df.set_index('Field of study', inplace=True)"
   ]
  },
  {
   "cell_type": "markdown",
   "id": "6f9f4612",
   "metadata": {},
   "source": [
    "To find the percent increase: \n",
    "$ \\ \\frac {\\textrm {Final} \\  -\\ \\textrm {initial}}{\\textrm{initial}} \\times 100$"
   ]
  },
  {
   "cell_type": "code",
   "execution_count": null,
   "id": "1c419541",
   "metadata": {},
   "outputs": [],
   "source": [
    "# Question 6 : Which majors have had the greatest **increase** since the survey began in 1970-1971?\n",
    "# df.apply(lambda x:(((x.iloc[x.shape[0] - 1] - x.iloc[0]) / (x.iloc[0])) * (100)) , axis=1 ).sort_values(ascending=False).replace(np.inf,np.nan).dropna()\n",
    "(df['2019-20'] - df['1970-71']).sort_values(ascending=False).head(5)"
   ]
  },
  {
   "cell_type": "code",
   "execution_count": null,
   "id": "0a85075e",
   "metadata": {},
   "outputs": [],
   "source": [
    "# Question 7 : Display the numbers with a comma before every three digits -- so that instead of showing \"1000\" it shows \"1,000\"\n",
    "df.apply(lambda x:'{:,.0f}'.format(((x.iloc[x.shape[0] - 1] - x.iloc[0]) / (x.iloc[0])) * (100)) , axis=1 ).replace('inf',np.nan).dropna().sort_values(ascending=False)"
   ]
  },
  {
   "cell_type": "code",
   "execution_count": null,
   "id": "b20df1b3",
   "metadata": {},
   "outputs": [],
   "source": [
    "# Question 8 : Which majors have had the greatest *decrease* since the survey began in 1970-1971?\n",
    "df.apply(lambda x:(((x.iloc[x.shape[0] - 1] - x.iloc[0]) / (x.iloc[0])) * (100)) , axis=1 ).sort_values(ascending=True).replace(np.inf,np.nan).dropna()"
   ]
  },
  {
   "cell_type": "code",
   "execution_count": null,
   "id": "f4bdf3ba",
   "metadata": {},
   "outputs": [],
   "source": [
    "# Question 9 : If we only look at the last 10 years of the study (i.e., starting in 2010-11), do we see similar changes in majors?\n",
    "df = df[df.columns[8:len(df.columns)]]\n",
    "df.apply(lambda x:(((x.iloc[x.shape[0] - 1] - x.iloc[0]) / (x.iloc[0])) * (100)) , axis=1 ).sort_values(ascending=False).replace(np.inf,np.nan).dropna()"
   ]
  },
  {
   "cell_type": "code",
   "execution_count": null,
   "id": "77038eae",
   "metadata": {},
   "outputs": [],
   "source": [
    "# Question 10 : What percentage decline do we see in all fields containing the word \"art,\" \"language,\" \"history,\" or \"culture\" in their names in the last 10 years?\n",
    "df.reset_index(inplace=True)\n",
    "filt = (df['Field of study'].str.contains('art')) | (df['Field of study'].str.contains('language')) | (df['Field of study'].str.contains('history')) | (df['Field of study'].str.contains('culture'))\n",
    "df = df.loc[filt]\n",
    "df.set_index('Field of study').apply(lambda x:(((x.iloc[x.shape[0] - 1] - x.iloc[0]) / (x.iloc[0])) * (100)) , axis=1 ).sort_values(ascending=True)"
   ]
  },
  {
   "cell_type": "markdown",
   "id": "9868b5a6",
   "metadata": {},
   "source": [
    "## In Questions 6 and 8, I calculated the percent difference instead of just the difference. I Made this to showcase and compare what each one tells us.\n",
    "\n"
   ]
  },
  {
   "cell_type": "code",
   "execution_count": null,
   "id": "cf53d912",
   "metadata": {},
   "outputs": [],
   "source": [
    "\n",
    "data = [[10,20],[20,40],[40,70],[70,110],[110,160],[160,220],[220,290],[290,370],[370,460],[460,560],[560,670],[670,790],[790,920],[920,1060],[1060,1210],[1210,1370],[1370,1540],[1540,1720],[1720,1910],[1910,2110],[2110,2320],[2320,2540],[2540,2770],[2770,3010],[3010,3260],[3260,3520],[3520,3790],[3790,4070]]\n",
    "df = pd.DataFrame(data)\n",
    "df['percent'] = df.apply(lambda x:(((x.iloc[x.shape[0] - 1] - x.iloc[0]) / (x.iloc[0])) * (100)) , axis=1 ).sort_values(ascending=True)\n",
    "df['diff'] = df[1] - df[0]\n",
    "df"
   ]
  }
 ],
 "metadata": {
  "kernelspec": {
   "display_name": "Python 3 (ipykernel)",
   "language": "python",
   "name": "python3"
  },
  "language_info": {
   "codemirror_mode": {
    "name": "ipython",
    "version": 3
   },
   "file_extension": ".py",
   "mimetype": "text/x-python",
   "name": "python",
   "nbconvert_exporter": "python",
   "pygments_lexer": "ipython3",
   "version": "3.12.0"
  }
 },
 "nbformat": 4,
 "nbformat_minor": 5
}
