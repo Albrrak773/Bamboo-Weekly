{
 "cells": [
  {
   "cell_type": "code",
   "execution_count": 1,
   "id": "b1bca18b-eeda-48a3-88de-02d07e98ba78",
   "metadata": {},
   "outputs": [],
   "source": [
    "import pandas as pd\n",
    "import numpy as np"
   ]
  },
  {
   "cell_type": "code",
   "execution_count": 2,
   "id": "8467c2c9",
   "metadata": {},
   "outputs": [],
   "source": [
    "# Question 1 : Read the downloaded CSV file \n",
    "df = pd.read_csv('https://earthquake.usgs.gov/fdsnws/event/1/query.csv?starttime=2000-01-01%2000:00:00&endtime=2024-02-15%2000:00:00&minmagnitude=2.5&orderby=time&producttype=losspager')\n",
    "pd.options.display.max_columns = 25"
   ]
  },
  {
   "cell_type": "code",
   "execution_count": 3,
   "id": "07c72423",
   "metadata": {},
   "outputs": [],
   "source": [
    "df['time'] = pd.to_datetime(df['time'])\n",
    "df.set_index('time',inplace=True)"
   ]
  },
  {
   "cell_type": "code",
   "execution_count": 4,
   "id": "f3896c9e",
   "metadata": {},
   "outputs": [
    {
     "data": {
      "text/plain": [
       "time                       type      \n",
       "2021-01-01 00:00:00+00:00  earthquake    1029\n",
       "2020-01-01 00:00:00+00:00  earthquake     932\n",
       "2019-01-01 00:00:00+00:00  earthquake     848\n",
       "2023-01-01 00:00:00+00:00  earthquake     833\n",
       "2018-01-01 00:00:00+00:00  earthquake     816\n",
       "2022-01-01 00:00:00+00:00  earthquake     778\n",
       "2014-01-01 00:00:00+00:00  earthquake     760\n",
       "2015-01-01 00:00:00+00:00  earthquake     695\n",
       "2016-01-01 00:00:00+00:00  earthquake     680\n",
       "2013-01-01 00:00:00+00:00  earthquake     611\n",
       "2017-01-01 00:00:00+00:00  earthquake     594\n",
       "2024-01-01 00:00:00+00:00  earthquake     100\n",
       "2010-01-01 00:00:00+00:00  earthquake      57\n",
       "2012-01-01 00:00:00+00:00  earthquake      20\n",
       "2008-01-01 00:00:00+00:00  earthquake      19\n",
       "2009-01-01 00:00:00+00:00  earthquake      18\n",
       "2005-01-01 00:00:00+00:00  earthquake      17\n",
       "2001-01-01 00:00:00+00:00  earthquake      15\n",
       "2011-01-01 00:00:00+00:00  earthquake      13\n",
       "2003-01-01 00:00:00+00:00  earthquake      11\n",
       "2002-01-01 00:00:00+00:00  earthquake      11\n",
       "2004-01-01 00:00:00+00:00  earthquake       8\n",
       "2000-01-01 00:00:00+00:00  earthquake       8\n",
       "2006-01-01 00:00:00+00:00  earthquake       5\n",
       "2007-01-01 00:00:00+00:00  earthquake       3\n",
       "Name: count, dtype: int64"
      ]
     },
     "execution_count": 4,
     "metadata": {},
     "output_type": "execute_result"
    }
   ],
   "source": [
    "# Questions 2 : How many seismic events take place each year\n",
    "filt = df['type'] == 'earthquake'\n",
    "df.loc[filt].resample('YS')['type'].value_counts().head(25).sort_values(ascending=False)"
   ]
  },
  {
   "cell_type": "code",
   "execution_count": 5,
   "id": "7806c422",
   "metadata": {},
   "outputs": [
    {
     "data": {
      "text/plain": [
       "mag\n",
       "5    5138\n",
       "4    1695\n",
       "6    1383\n",
       "3     511\n",
       "7     151\n",
       "8      12\n",
       "2       9\n",
       "Name: count, dtype: int64"
      ]
     },
     "execution_count": 5,
     "metadata": {},
     "output_type": "execute_result"
    }
   ],
   "source": [
    "# Question 3 : What are common magnitudes? \n",
    "df['mag'].astype(np.int8).value_counts()"
   ]
  },
  {
   "cell_type": "code",
   "execution_count": 6,
   "id": "bcb83f15",
   "metadata": {},
   "outputs": [
    {
     "data": {
      "text/plain": [
       "5.7"
      ]
     },
     "execution_count": 6,
     "metadata": {},
     "output_type": "execute_result"
    }
   ],
   "source": [
    "# Question 4 : How many seismic events took place in Turkey on February 6th? What was their average magnitude? What was the mean magnitude?\n",
    "# I Never Answerted this question the below answer, i was only able to get after looking at the answer. I was too busy trying to solve the next question\n",
    "df.loc['2023-02-06'].loc[df.loc['2023-02-06']['place'].str.contains('Turkey')]['mag'].median()#.mean()"
   ]
  },
  {
   "cell_type": "code",
   "execution_count": 7,
   "id": "986f87ac",
   "metadata": {},
   "outputs": [
    {
     "data": {
      "text/plain": [
       "place\n",
       " Alaska                   952\n",
       " Indonesia                575\n",
       " CA                       445\n",
       " Papua New Guinea         408\n",
       " Japan                    300\n",
       "                         ... \n",
       " WA                         1\n",
       " U.S. Virgin Islands        1\n",
       "northwest of Australia      1\n",
       " Guyana                     1\n",
       " Indiana                    1\n",
       "Name: count, Length: 305, dtype: int64"
      ]
     },
     "execution_count": 7,
     "metadata": {},
     "output_type": "execute_result"
    }
   ],
   "source": [
    "'''\n",
    "MY OLD ANSWER\n",
    "def get_comma(x:str):\n",
    "    if ',' in x:\n",
    "        splitted = x.split(',')\n",
    "        return splitted[len(splitted) - 1]\n",
    "    else:\n",
    "        return x\n",
    "df['place'] = df['place'].apply(get_comma)\n",
    "\n",
    "quackfilt = df['type'] == 'earthquake'\n",
    "dfgroup = df.groupby(by=df['place'])\n",
    "dfgroup['place'].value_counts()\n",
    "\n",
    "'''\n",
    "# Question 5 : Are earthquakes common in Turkey? extract the text following the final comma, and get the 30 most common places\n",
    "# Note this is not my answer as well, HOWEVER even though my answer was CRAZY it was STILL CORRECT\n",
    "df['place'].str.split(',').apply(lambda x:x[-1]).value_counts()"
   ]
  },
  {
   "cell_type": "code",
   "execution_count": 9,
   "id": "b74083f7",
   "metadata": {},
   "outputs": [
    {
     "data": {
      "text/plain": [
       "place\n",
       " Indonesia                                               566\n",
       " Papua New Guinea                                        405\n",
       " Chile                                                   294\n",
       " Japan                                                   294\n",
       " Philippines                                             269\n",
       "                                                        ... \n",
       "off the east coast of the North Island of New Zealand      1\n",
       " Namibia                                                   1\n",
       "Galapagos Triple Junction region                           1\n",
       " Japan Earthquake                                          1\n",
       " Illinois                                                  1\n",
       "Name: count, Length: 262, dtype: int64"
      ]
     },
     "execution_count": 9,
     "metadata": {},
     "output_type": "execute_result"
    }
   ],
   "source": [
    "mag5 = (df['mag'] <= 5)\n",
    "df = df.drop(index=df.loc[mag5].index)  \n",
    "df['place'].str.split(',').apply(lambda x:x[-1]).value_counts()"
   ]
  }
 ],
 "metadata": {
  "kernelspec": {
   "display_name": "Python 3 (ipykernel)",
   "language": "python",
   "name": "python3"
  },
  "language_info": {
   "codemirror_mode": {
    "name": "ipython",
    "version": 3
   },
   "file_extension": ".py",
   "mimetype": "text/x-python",
   "name": "python",
   "nbconvert_exporter": "python",
   "pygments_lexer": "ipython3",
   "version": "3.12.0"
  }
 },
 "nbformat": 4,
 "nbformat_minor": 5
}
