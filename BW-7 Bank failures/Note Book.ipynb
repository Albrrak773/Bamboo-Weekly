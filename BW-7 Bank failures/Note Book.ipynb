{
 "cells": [
  {
   "cell_type": "code",
   "execution_count": 87,
   "id": "08cc20bc-fc1b-4871-94c2-48e0e0cc71ff",
   "metadata": {},
   "outputs": [],
   "source": [
    "import pandas as pd\n",
    "import numpy as np"
   ]
  },
  {
   "cell_type": "code",
   "execution_count": 88,
   "id": "5f5abcef",
   "metadata": {},
   "outputs": [
    {
     "data": {
      "text/html": [
       "<div>\n",
       "<style scoped>\n",
       "    .dataframe tbody tr th:only-of-type {\n",
       "        vertical-align: middle;\n",
       "    }\n",
       "\n",
       "    .dataframe tbody tr th {\n",
       "        vertical-align: top;\n",
       "    }\n",
       "\n",
       "    .dataframe thead th {\n",
       "        text-align: right;\n",
       "    }\n",
       "</style>\n",
       "<table border=\"1\" class=\"dataframe\">\n",
       "  <thead>\n",
       "    <tr style=\"text-align: right;\">\n",
       "      <th></th>\n",
       "      <th>CERT</th>\n",
       "      <th>CHCLASS1</th>\n",
       "      <th>CITYST</th>\n",
       "      <th>COST</th>\n",
       "      <th>FAILDATE</th>\n",
       "      <th>FIN</th>\n",
       "      <th>ID</th>\n",
       "      <th>NAME</th>\n",
       "      <th>QBFASSET</th>\n",
       "      <th>QBFDEP</th>\n",
       "      <th>RESTYPE</th>\n",
       "      <th>RESTYPE1</th>\n",
       "      <th>SAVR</th>\n",
       "    </tr>\n",
       "  </thead>\n",
       "  <tbody>\n",
       "    <tr>\n",
       "      <th>0</th>\n",
       "      <td>8758.0</td>\n",
       "      <td>NM</td>\n",
       "      <td>SAC CITY, IA</td>\n",
       "      <td>14804.0</td>\n",
       "      <td>11/3/2023</td>\n",
       "      <td>10545</td>\n",
       "      <td>4109</td>\n",
       "      <td>CITIZENS BANK</td>\n",
       "      <td>60448.0</td>\n",
       "      <td>52311.0</td>\n",
       "      <td>FAILURE</td>\n",
       "      <td>PA</td>\n",
       "      <td>DIF</td>\n",
       "    </tr>\n",
       "    <tr>\n",
       "      <th>1</th>\n",
       "      <td>25851.0</td>\n",
       "      <td>SM</td>\n",
       "      <td>ELKHART, KS</td>\n",
       "      <td>54167.0</td>\n",
       "      <td>7/28/2023</td>\n",
       "      <td>10544</td>\n",
       "      <td>4108</td>\n",
       "      <td>HEARTLAND TRI-STATE BANK</td>\n",
       "      <td>139446.0</td>\n",
       "      <td>130110.0</td>\n",
       "      <td>FAILURE</td>\n",
       "      <td>PA</td>\n",
       "      <td>DIF</td>\n",
       "    </tr>\n",
       "    <tr>\n",
       "      <th>2</th>\n",
       "      <td>59017.0</td>\n",
       "      <td>NM</td>\n",
       "      <td>SAN FRANCISCO, CA</td>\n",
       "      <td>16566779.0</td>\n",
       "      <td>5/1/2023</td>\n",
       "      <td>10543</td>\n",
       "      <td>4107</td>\n",
       "      <td>FIRST REPUBLIC BANK</td>\n",
       "      <td>212638872.0</td>\n",
       "      <td>176436706.0</td>\n",
       "      <td>FAILURE</td>\n",
       "      <td>PA</td>\n",
       "      <td>DIF</td>\n",
       "    </tr>\n",
       "    <tr>\n",
       "      <th>3</th>\n",
       "      <td>57053.0</td>\n",
       "      <td>NM</td>\n",
       "      <td>NEW YORK, NY</td>\n",
       "      <td>2787270.0</td>\n",
       "      <td>3/12/2023</td>\n",
       "      <td>10540</td>\n",
       "      <td>4106</td>\n",
       "      <td>SIGNATURE BANK</td>\n",
       "      <td>110363650.0</td>\n",
       "      <td>88612911.0</td>\n",
       "      <td>FAILURE</td>\n",
       "      <td>PA</td>\n",
       "      <td>DIF</td>\n",
       "    </tr>\n",
       "    <tr>\n",
       "      <th>4</th>\n",
       "      <td>24735.0</td>\n",
       "      <td>SM</td>\n",
       "      <td>SANTA CLARA, CA</td>\n",
       "      <td>19671712.0</td>\n",
       "      <td>3/7/2023</td>\n",
       "      <td>10539</td>\n",
       "      <td>4105</td>\n",
       "      <td>SILICON VALLEY BANK</td>\n",
       "      <td>209026000.0</td>\n",
       "      <td>175378000.0</td>\n",
       "      <td>FAILURE</td>\n",
       "      <td>PA</td>\n",
       "      <td>DIF</td>\n",
       "    </tr>\n",
       "    <tr>\n",
       "      <th>...</th>\n",
       "      <td>...</td>\n",
       "      <td>...</td>\n",
       "      <td>...</td>\n",
       "      <td>...</td>\n",
       "      <td>...</td>\n",
       "      <td>...</td>\n",
       "      <td>...</td>\n",
       "      <td>...</td>\n",
       "      <td>...</td>\n",
       "      <td>...</td>\n",
       "      <td>...</td>\n",
       "      <td>...</td>\n",
       "      <td>...</td>\n",
       "    </tr>\n",
       "    <tr>\n",
       "      <th>4104</th>\n",
       "      <td>NaN</td>\n",
       "      <td>NM</td>\n",
       "      <td>LEWISPORT, KY</td>\n",
       "      <td>NaN</td>\n",
       "      <td>8/6/1934</td>\n",
       "      <td>0</td>\n",
       "      <td>5</td>\n",
       "      <td>BANK OF LEWISPORT</td>\n",
       "      <td>81.0</td>\n",
       "      <td>68.0</td>\n",
       "      <td>FAILURE</td>\n",
       "      <td>PO</td>\n",
       "      <td>FDIC</td>\n",
       "    </tr>\n",
       "    <tr>\n",
       "      <th>4105</th>\n",
       "      <td>NaN</td>\n",
       "      <td>N</td>\n",
       "      <td>LIMA, MT</td>\n",
       "      <td>NaN</td>\n",
       "      <td>7/18/1934</td>\n",
       "      <td>0</td>\n",
       "      <td>3</td>\n",
       "      <td>FIRST NATIONAL BANK OF LIMA</td>\n",
       "      <td>91.0</td>\n",
       "      <td>42.0</td>\n",
       "      <td>FAILURE</td>\n",
       "      <td>PO</td>\n",
       "      <td>FDIC</td>\n",
       "    </tr>\n",
       "    <tr>\n",
       "      <th>4106</th>\n",
       "      <td>NaN</td>\n",
       "      <td>NM</td>\n",
       "      <td>FLORENCE, IN</td>\n",
       "      <td>NaN</td>\n",
       "      <td>7/18/1934</td>\n",
       "      <td>0</td>\n",
       "      <td>4</td>\n",
       "      <td>FLORENCE DEPOSIT BANK</td>\n",
       "      <td>105.0</td>\n",
       "      <td>69.0</td>\n",
       "      <td>FAILURE</td>\n",
       "      <td>PO</td>\n",
       "      <td>FDIC</td>\n",
       "    </tr>\n",
       "    <tr>\n",
       "      <th>4107</th>\n",
       "      <td>NaN</td>\n",
       "      <td>NM</td>\n",
       "      <td>EAST PEORIA, IL</td>\n",
       "      <td>NaN</td>\n",
       "      <td>5/28/1934</td>\n",
       "      <td>0</td>\n",
       "      <td>1</td>\n",
       "      <td>FON DU LAC STATE BANK</td>\n",
       "      <td>374.0</td>\n",
       "      <td>238.0</td>\n",
       "      <td>FAILURE</td>\n",
       "      <td>PO</td>\n",
       "      <td>FDIC</td>\n",
       "    </tr>\n",
       "    <tr>\n",
       "      <th>4108</th>\n",
       "      <td>NaN</td>\n",
       "      <td>NM</td>\n",
       "      <td>PITTSBURGH, PA</td>\n",
       "      <td>NaN</td>\n",
       "      <td>4/19/1934</td>\n",
       "      <td>0</td>\n",
       "      <td>2</td>\n",
       "      <td>BANK OF AMERICA TRUST CO.</td>\n",
       "      <td>1435.0</td>\n",
       "      <td>1064.0</td>\n",
       "      <td>FAILURE</td>\n",
       "      <td>PO</td>\n",
       "      <td>FDIC</td>\n",
       "    </tr>\n",
       "  </tbody>\n",
       "</table>\n",
       "<p>4109 rows × 13 columns</p>\n",
       "</div>"
      ],
      "text/plain": [
       "         CERT CHCLASS1             CITYST        COST   FAILDATE    FIN    ID  \\\n",
       "0      8758.0       NM       SAC CITY, IA     14804.0  11/3/2023  10545  4109   \n",
       "1     25851.0       SM        ELKHART, KS     54167.0  7/28/2023  10544  4108   \n",
       "2     59017.0       NM  SAN FRANCISCO, CA  16566779.0   5/1/2023  10543  4107   \n",
       "3     57053.0       NM       NEW YORK, NY   2787270.0  3/12/2023  10540  4106   \n",
       "4     24735.0       SM    SANTA CLARA, CA  19671712.0   3/7/2023  10539  4105   \n",
       "...       ...      ...                ...         ...        ...    ...   ...   \n",
       "4104      NaN       NM      LEWISPORT, KY         NaN   8/6/1934      0     5   \n",
       "4105      NaN        N           LIMA, MT         NaN  7/18/1934      0     3   \n",
       "4106      NaN       NM       FLORENCE, IN         NaN  7/18/1934      0     4   \n",
       "4107      NaN       NM    EAST PEORIA, IL         NaN  5/28/1934      0     1   \n",
       "4108      NaN       NM     PITTSBURGH, PA         NaN  4/19/1934      0     2   \n",
       "\n",
       "                             NAME     QBFASSET       QBFDEP  RESTYPE RESTYPE1  \\\n",
       "0                   CITIZENS BANK      60448.0      52311.0  FAILURE       PA   \n",
       "1        HEARTLAND TRI-STATE BANK     139446.0     130110.0  FAILURE       PA   \n",
       "2             FIRST REPUBLIC BANK  212638872.0  176436706.0  FAILURE       PA   \n",
       "3                  SIGNATURE BANK  110363650.0   88612911.0  FAILURE       PA   \n",
       "4             SILICON VALLEY BANK  209026000.0  175378000.0  FAILURE       PA   \n",
       "...                           ...          ...          ...      ...      ...   \n",
       "4104            BANK OF LEWISPORT         81.0         68.0  FAILURE       PO   \n",
       "4105  FIRST NATIONAL BANK OF LIMA         91.0         42.0  FAILURE       PO   \n",
       "4106        FLORENCE DEPOSIT BANK        105.0         69.0  FAILURE       PO   \n",
       "4107        FON DU LAC STATE BANK        374.0        238.0  FAILURE       PO   \n",
       "4108    BANK OF AMERICA TRUST CO.       1435.0       1064.0  FAILURE       PO   \n",
       "\n",
       "      SAVR  \n",
       "0      DIF  \n",
       "1      DIF  \n",
       "2      DIF  \n",
       "3      DIF  \n",
       "4      DIF  \n",
       "...    ...  \n",
       "4104  FDIC  \n",
       "4105  FDIC  \n",
       "4106  FDIC  \n",
       "4107  FDIC  \n",
       "4108  FDIC  \n",
       "\n",
       "[4109 rows x 13 columns]"
      ]
     },
     "execution_count": 88,
     "metadata": {},
     "output_type": "execute_result"
    }
   ],
   "source": [
    "df = pd.read_csv('https://pfabankapi.app.cloud.gov/api/failures?fields=NAME%2CCERT%2CFIN%2CCITYST%2CFAILDATE%2CSAVR%2CRESTYPE%2CCOST%2CRESTYPE1%2CCHCLASS1%2CQBFDEP%2CQBFASSET&filters=FAILYR%3A%5B1934%20TO%202023%5D&limit=10000&react=true&sort_by=FAILDATE&sort_order=desc&subtotal_by=RESTYPE&total_fields=QBFDEP%2CQBFASSET%2CCOST&format=csv&download=true&filename=bank-data')\n",
    "df"
   ]
  },
  {
   "cell_type": "code",
   "execution_count": 89,
   "id": "5d44546f",
   "metadata": {},
   "outputs": [
    {
     "data": {
      "text/plain": [
       "3516"
      ]
     },
     "execution_count": 89,
     "metadata": {},
     "output_type": "execute_result"
    }
   ],
   "source": [
    "# Question 1 : According to our document, how many bank failures have there been since the FDIC was opened?\n",
    "filt = df['RESTYPE'] == 'FAILURE'\n",
    "df = df.loc[filt]\n",
    "df['RESTYPE'].value_counts().sum()"
   ]
  },
  {
   "cell_type": "code",
   "execution_count": 90,
   "id": "4faa01b8",
   "metadata": {},
   "outputs": [
    {
     "name": "stderr",
     "output_type": "stream",
     "text": [
      "C:\\Users\\albrr\\AppData\\Local\\Temp\\ipykernel_3292\\2207272439.py:2: SettingWithCopyWarning: \n",
      "A value is trying to be set on a copy of a slice from a DataFrame.\n",
      "Try using .loc[row_indexer,col_indexer] = value instead\n",
      "\n",
      "See the caveats in the documentation: https://pandas.pydata.org/pandas-docs/stable/user_guide/indexing.html#returning-a-view-versus-a-copy\n",
      "  df['FAILDATE'] = pd.to_datetime(df['FAILDATE'])\n"
     ]
    },
    {
     "data": {
      "text/html": [
       "<div>\n",
       "<style scoped>\n",
       "    .dataframe tbody tr th:only-of-type {\n",
       "        vertical-align: middle;\n",
       "    }\n",
       "\n",
       "    .dataframe tbody tr th {\n",
       "        vertical-align: top;\n",
       "    }\n",
       "\n",
       "    .dataframe thead th {\n",
       "        text-align: right;\n",
       "    }\n",
       "</style>\n",
       "<table border=\"1\" class=\"dataframe\">\n",
       "  <thead>\n",
       "    <tr style=\"text-align: right;\">\n",
       "      <th></th>\n",
       "      <th>CERT</th>\n",
       "      <th>CHCLASS1</th>\n",
       "      <th>CITYST</th>\n",
       "      <th>COST</th>\n",
       "      <th>FAILDATE</th>\n",
       "      <th>FIN</th>\n",
       "      <th>ID</th>\n",
       "      <th>NAME</th>\n",
       "      <th>QBFASSET</th>\n",
       "      <th>QBFDEP</th>\n",
       "      <th>RESTYPE</th>\n",
       "      <th>RESTYPE1</th>\n",
       "      <th>SAVR</th>\n",
       "    </tr>\n",
       "  </thead>\n",
       "  <tbody>\n",
       "    <tr>\n",
       "      <th>4108</th>\n",
       "      <td>NaN</td>\n",
       "      <td>NM</td>\n",
       "      <td>PITTSBURGH, PA</td>\n",
       "      <td>NaN</td>\n",
       "      <td>1934-04-19</td>\n",
       "      <td>0</td>\n",
       "      <td>2</td>\n",
       "      <td>BANK OF AMERICA TRUST CO.</td>\n",
       "      <td>1435.0</td>\n",
       "      <td>1064.0</td>\n",
       "      <td>FAILURE</td>\n",
       "      <td>PO</td>\n",
       "      <td>FDIC</td>\n",
       "    </tr>\n",
       "    <tr>\n",
       "      <th>0</th>\n",
       "      <td>8758.0</td>\n",
       "      <td>NM</td>\n",
       "      <td>SAC CITY, IA</td>\n",
       "      <td>14804.0</td>\n",
       "      <td>2023-11-03</td>\n",
       "      <td>10545</td>\n",
       "      <td>4109</td>\n",
       "      <td>CITIZENS BANK</td>\n",
       "      <td>60448.0</td>\n",
       "      <td>52311.0</td>\n",
       "      <td>FAILURE</td>\n",
       "      <td>PA</td>\n",
       "      <td>DIF</td>\n",
       "    </tr>\n",
       "  </tbody>\n",
       "</table>\n",
       "</div>"
      ],
      "text/plain": [
       "        CERT CHCLASS1          CITYST     COST   FAILDATE    FIN    ID  \\\n",
       "4108     NaN       NM  PITTSBURGH, PA      NaN 1934-04-19      0     2   \n",
       "0     8758.0       NM    SAC CITY, IA  14804.0 2023-11-03  10545  4109   \n",
       "\n",
       "                           NAME  QBFASSET   QBFDEP  RESTYPE RESTYPE1  SAVR  \n",
       "4108  BANK OF AMERICA TRUST CO.    1435.0   1064.0  FAILURE       PO  FDIC  \n",
       "0                 CITIZENS BANK   60448.0  52311.0  FAILURE       PA   DIF  "
      ]
     },
     "execution_count": 90,
     "metadata": {},
     "output_type": "execute_result"
    }
   ],
   "source": [
    "# Question 2 : What was the earliest failure in our data set? What is the most recent failure in our data set?\n",
    "df['FAILDATE'] = pd.to_datetime(df['FAILDATE'])\n",
    "# df.sort_values(by='FAILDATE').head(1) # (Oldest)\n",
    "Newst = df.sort_values(by='FAILDATE',ascending=False).head(1).index # (Newest)\n",
    "Oldest = df.sort_values(by='FAILDATE',ascending=True).head(1).index # (Oldest)\n",
    "df.loc[[Oldest[0],Newst[0]]]"
   ]
  },
  {
   "cell_type": "code",
   "execution_count": 91,
   "id": "bc9c19a9",
   "metadata": {},
   "outputs": [],
   "source": [
    "df = df.set_index('FAILDATE')"
   ]
  },
  {
   "cell_type": "code",
   "execution_count": 92,
   "id": "661d8702",
   "metadata": {},
   "outputs": [
    {
     "data": {
      "text/plain": [
       "FAILDATE\n",
       "1989-12-31    1280\n",
       "Name: RESTYPE, dtype: int64"
      ]
     },
     "execution_count": 92,
     "metadata": {},
     "output_type": "execute_result"
    }
   ],
   "source": [
    "# Question 3 : In which five years did the greatest number of banks fail?\n",
    "# after solved notes... i interperted the question wrong he wanted the 5 years that had the biggies falier and to group by 5 and get the biggies one \n",
    "df['RESTYPE'].resample('5YE').count().sort_values(ascending=False).head(1)"
   ]
  },
  {
   "cell_type": "code",
   "execution_count": 93,
   "id": "f0f398d9",
   "metadata": {},
   "outputs": [
    {
     "name": "stdout",
     "output_type": "stream",
     "text": [
      "the number of row between the 5 year period of 1984 and 1989 is 1280 rows\n"
     ]
    }
   ],
   "source": [
    "# proof that the above smpling is accurate.\n",
    "year5start = 1984\n",
    "year5End = 1989\n",
    "df = df.reset_index()\n",
    "filt = ( df[\"FAILDATE\"] > pd.to_datetime(f'{year5start}-12-31') ) & (df[\"FAILDATE\"] < pd.to_datetime(f'{year5End}-12-31')) \n",
    "numRows = df.loc[filt].shape[0]\n",
    "\n",
    "print(f'the number of row between the 5 year period of {year5start} and {year5End} is {numRows} rows')"
   ]
  },
  {
   "cell_type": "code",
   "execution_count": 94,
   "id": "c67dff7b",
   "metadata": {},
   "outputs": [
    {
     "data": {
      "text/plain": [
       "CITYST\n",
       "TX    737\n",
       "CA    238\n",
       "IL    183\n",
       "Name: count, dtype: int64"
      ]
     },
     "execution_count": 94,
     "metadata": {},
     "output_type": "execute_result"
    }
   ],
   "source": [
    "# Question 4 : In which three states were the greatest number of failed banks?\n",
    "df['CITYST'].apply(lambda x:x[x.find(',')+2:]).value_counts().sort_values(ascending=False).head(3)"
   ]
  },
  {
   "cell_type": "code",
   "execution_count": 95,
   "id": "ad9fbbe4",
   "metadata": {},
   "outputs": [
    {
     "name": "stdout",
     "output_type": "stream",
     "text": [
      "the average captilaization of failded banks is 568715.9765230312 million. which is far less the 200 billion cap that SVB had \n"
     ]
    }
   ],
   "source": [
    "# Question 5 : What was the average market capitalization of the banks that failed? Given a capitalization of $200b, did that make SVB above, below, or about average?\n",
    "avCap = df['QBFASSET'].mean()\n",
    "print(f'the average captilaization of failded banks is {avCap} million. which is far less the 200 billion cap that SVB had ')"
   ]
  },
  {
   "cell_type": "code",
   "execution_count": 96,
   "id": "ddba9cf6",
   "metadata": {},
   "outputs": [
    {
     "data": {
      "text/plain": [
       "FAILDATE    2023-05-01 00:00:00\n",
       "CERT                    59017.0\n",
       "CHCLASS1                     NM\n",
       "CITYST        SAN FRANCISCO, CA\n",
       "COST                 16566779.0\n",
       "FIN                       10543\n",
       "ID                         4107\n",
       "NAME        FIRST REPUBLIC BANK\n",
       "QBFASSET            212638872.0\n",
       "QBFDEP              176436706.0\n",
       "RESTYPE                 FAILURE\n",
       "RESTYPE1                     PA\n",
       "SAVR                        DIF\n",
       "Name: 2, dtype: object"
      ]
     },
     "execution_count": 96,
     "metadata": {},
     "output_type": "execute_result"
    }
   ],
   "source": [
    "# Question 6 : When was the most recent failure greater than SVB?\n",
    "filt = df['FAILDATE'] > df.loc[4,'FAILDATE'] \n",
    "df.loc[filt].loc[2]"
   ]
  },
  {
   "cell_type": "code",
   "execution_count": 102,
   "id": "c6ca195f",
   "metadata": {},
   "outputs": [
    {
     "name": "stdout",
     "output_type": "stream",
     "text": [
      "RESTYPE1\n",
      "PA      2102\n",
      "PO       573\n",
      "IDT      386\n",
      "P&A      251\n",
      "PI       140\n",
      "MGR       37\n",
      "ABT       16\n",
      "DINB       9\n",
      "REP        2\n",
      "Name: count, dtype: int64\n"
     ]
    }
   ],
   "source": [
    "# Question 7 : Bank failures can be resolved in several different ways. How often, historically, have we seen each resolution? Were the odds good that SVB's uninsured depositors would get their money?\n",
    "print(df['RESTYPE1'].value_counts()) # refer to the yaml file to understand the codes by searching the file for (RESTYPE1)"
   ]
  },
  {
   "cell_type": "code",
   "execution_count": 98,
   "id": "7088482c",
   "metadata": {},
   "outputs": [
    {
     "data": {
      "text/plain": [
       "RESTYPE1\n",
       "PA      510\n",
       "PI       32\n",
       "PO       23\n",
       "DINB      8\n",
       "Name: count, dtype: int64"
      ]
     },
     "execution_count": 98,
     "metadata": {},
     "output_type": "execute_result"
    }
   ],
   "source": [
    "# Question 8 : What about bank failures in the last 25 years -- if we just look at those, do the odds change?\n",
    "filt = df['FAILDATE'] > pd.to_datetime('01-01-2000') \n",
    "df.loc[filt,'RESTYPE1'].value_counts()"
   ]
  },
  {
   "cell_type": "code",
   "execution_count": 103,
   "id": "d21bf79c",
   "metadata": {},
   "outputs": [
    {
     "name": "stdout",
     "output_type": "stream",
     "text": [
      "82049.00374914792\n"
     ]
    }
   ],
   "source": [
    "# Question 9 : What was the mean estimated loss in bank failures? What proportion of a bank's assets did this generally involve?\n",
    "print(df['COST'].mean())"
   ]
  }
 ],
 "metadata": {
  "kernelspec": {
   "display_name": "Python 3 (ipykernel)",
   "language": "python",
   "name": "python3"
  },
  "language_info": {
   "codemirror_mode": {
    "name": "ipython",
    "version": 3
   },
   "file_extension": ".py",
   "mimetype": "text/x-python",
   "name": "python",
   "nbconvert_exporter": "python",
   "pygments_lexer": "ipython3",
   "version": "3.12.0"
  }
 },
 "nbformat": 4,
 "nbformat_minor": 5
}
