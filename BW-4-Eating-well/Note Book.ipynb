{
 "cells": [
  {
   "cell_type": "code",
   "execution_count": 1,
   "id": "31d0e3a7-6566-4a20-848b-d91dafd6e3e6",
   "metadata": {},
   "outputs": [],
   "source": [
    "import pandas as pd\n",
    "import numpy as np"
   ]
  },
  {
   "cell_type": "code",
   "execution_count": 2,
   "id": "3a47e673",
   "metadata": {},
   "outputs": [],
   "source": [
    "# Question 1 : We're only interested in the  following columns: FIPSST VEGETABLES FRUIT SUGARDRINK\n",
    "df = pd.read_sas('nsch_2021e_topical.sas7bdat')\n",
    "df = df[['FIPSST','VEGETABLES','FRUIT','SUGARDRINK']]"
   ]
  },
  {
   "cell_type": "code",
   "execution_count": 3,
   "id": "d04c3f96",
   "metadata": {},
   "outputs": [],
   "source": [
    "# Question 2 : Turn the FIPSST column into an integer, and make it the index\n",
    "df['FIPSST'] = df['FIPSST'].astype(np.int32)\n",
    "df.set_index('FIPSST',inplace=True)"
   ]
  },
  {
   "cell_type": "code",
   "execution_count": 9,
   "id": "70ec0d71",
   "metadata": {},
   "outputs": [
    {
     "name": "stdout",
     "output_type": "stream",
     "text": [
      "47.01448017788383\n"
     ]
    }
   ],
   "source": [
    "# Question 3 : What percentage of children had, on average, less than one vegetable per day during the week preceding the study (seen answer)\n",
    "vegfitl = df['VEGETABLES'] < 4\n",
    "percent = (df['VEGETABLES'].loc[vegfitl].count()) / (df['VEGETABLES'].count())\n",
    "print(percent * 100)"
   ]
  },
  {
   "cell_type": "code",
   "execution_count": 10,
   "id": "7ee14142",
   "metadata": {},
   "outputs": [
    {
     "name": "stdout",
     "output_type": "stream",
     "text": [
      "26.20529192143282\n"
     ]
    }
   ],
   "source": [
    "# Question 4 : What percentage of children had, on average, less than one vegetable per day and less than one fruit per day?\n",
    "vegFrutFitl = (df['VEGETABLES'] < 4) & (df['FRUIT'] < 4 )\n",
    "percent = (df[['FRUIT','VEGETABLES']].loc[vegFrutFitl].count().sum()) / (df[['FRUIT','VEGETABLES']].count().sum())\n",
    "print(percent * 100)"
   ]
  },
  {
   "cell_type": "code",
   "execution_count": 11,
   "id": "bffe4464",
   "metadata": {},
   "outputs": [
    {
     "name": "stdout",
     "output_type": "stream",
     "text": [
      "15.90107923423179\n"
     ]
    }
   ],
   "source": [
    "# Question 5 : What percentage of children had, on average, less than one vegetable per day and less than one fruit per day and did have a sugary drink?\n",
    "vegFrutSugFitl =  (df['VEGETABLES'] < 4) & (df['FRUIT'] < 4 ) & (df['SUGARDRINK'] > 1)\n",
    "percent = (df['VEGETABLES'].loc[vegFrutSugFitl].shape[0]) / (df['VEGETABLES'].count())\n",
    "print(percent * 100)"
   ]
  },
  {
   "cell_type": "code",
   "execution_count": 7,
   "id": "7cbf2fac",
   "metadata": {},
   "outputs": [],
   "source": [
    "# Question 6 : Turn this into a data frame, with the STATE column as the index. The only other column we care about is STATE_NAME.\n",
    "stat = pd.read_csv('https://www2.census.gov/geo/docs/reference/state.txt',sep='|', index_col='STATE')\n",
    "stat = stat['STATE_NAME']"
   ]
  },
  {
   "cell_type": "code",
   "execution_count": 8,
   "id": "a30f3f1e",
   "metadata": {},
   "outputs": [
    {
     "data": {
      "text/plain": [
       "FIPSST\n",
       "Vermont                 0.487879\n",
       "Maine                   0.435768\n",
       "District of Columbia    0.429306\n",
       "New Hampshire           0.421725\n",
       "Montana                 0.412429\n",
       "Minnesota               0.398693\n",
       "Oregon                  0.381579\n",
       "Wisconsin               0.368159\n",
       "Virginia                0.363036\n",
       "Kansas                  0.357527\n",
       "Washington              0.356546\n",
       "Wyoming                 0.355805\n",
       "Maryland                0.351064\n",
       "New Mexico              0.348534\n",
       "Colorado                0.348515\n",
       "California              0.343023\n",
       "Massachusetts           0.342949\n",
       "Tennessee               0.342262\n",
       "Alaska                  0.335227\n",
       "Connecticut             0.327027\n",
       "South Carolina          0.323988\n",
       "Pennsylvania            0.322981\n",
       "North Dakota            0.321101\n",
       "Iowa                    0.318436\n",
       "Georgia                 0.317881\n",
       "Missouri                0.309524\n",
       "New York                0.309148\n",
       "South Dakota            0.307910\n",
       "Ohio                    0.305046\n",
       "Idaho                   0.301695\n",
       "North Carolina          0.299342\n",
       "Nebraska                0.298246\n",
       "New Jersey              0.294944\n",
       "Texas                   0.292063\n",
       "West Virginia           0.289474\n",
       "Arizona                 0.288889\n",
       "Rhode Island            0.288184\n",
       "Michigan                0.287037\n",
       "Illinois                0.284211\n",
       "Kentucky                0.281899\n",
       "Utah                    0.281167\n",
       "Hawaii                  0.273632\n",
       "Nevada                  0.272152\n",
       "Delaware                0.263158\n",
       "Florida                 0.261398\n",
       "Indiana                 0.254902\n",
       "Oklahoma                0.251462\n",
       "Arkansas                0.250000\n",
       "Mississippi             0.233129\n",
       "Alabama                 0.233038\n",
       "Louisiana               0.203030\n",
       "Name: VEGETABLES, dtype: float64"
      ]
     },
     "execution_count": 8,
     "metadata": {},
     "output_type": "execute_result"
    }
   ],
   "source": [
    "# Question 7 : What percentage of children, per state, had, on average, less than one vegetaable per day? (my take )\n",
    "df = df.reset_index()\n",
    "df['FIPSST'] = df['FIPSST'].apply(lambda x:stat.loc[x])\n",
    "stateGroup = df['VEGETABLES'].groupby(df['FIPSST'])\n",
    "stateGroup.apply(lambda x:x.loc[x > 4].count().sum()/(x.count().sum())).sort_values(ascending=False)"
   ]
  }
 ],
 "metadata": {
  "kernelspec": {
   "display_name": "Python 3 (ipykernel)",
   "language": "python",
   "name": "python3"
  },
  "language_info": {
   "codemirror_mode": {
    "name": "ipython",
    "version": 3
   },
   "file_extension": ".py",
   "mimetype": "text/x-python",
   "name": "python",
   "nbconvert_exporter": "python",
   "pygments_lexer": "ipython3",
   "version": "3.12.0"
  }
 },
 "nbformat": 4,
 "nbformat_minor": 5
}
